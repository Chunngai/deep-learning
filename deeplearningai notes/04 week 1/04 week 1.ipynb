{
 "cells": [
  {
   "cell_type": "markdown",
   "metadata": {},
   "source": [
    "<font size=3>**1.1 Computer vision**</font>"
   ]
  },
  {
   "cell_type": "markdown",
   "metadata": {},
   "source": [
    "**Why convolutional?**"
   ]
  },
  {
   "cell_type": "markdown",
   "metadata": {},
   "source": [
    "The number of parameters will be large in some tasks, which makes it difficult to get enough data to prevent over-fitting and also the competition requirements.  \n",
    "  \n",
    "The memory requirement to train too many parameters is a bit infeasible."
   ]
  },
  {
   "cell_type": "markdown",
   "metadata": {},
   "source": [
    "<font size=3>**Edge detection example**</font>"
   ]
  },
  {
   "cell_type": "markdown",
   "metadata": {},
   "source": [
    "**How to detect edges?**"
   ]
  },
  {
   "cell_type": "markdown",
   "metadata": {},
   "source": [
    "Suppose we have a 6 * 6 grayscale image:  \n",
    "$$\n",
    "\\begin{aligned}\n",
    "\\begin{bmatrix}\n",
    "3 & 0 & 1 & 2 & 7 & 4 \\\\\n",
    "1 & 5 & 8 & 9 & 3 & 1 \\\\\n",
    "2 & 7 & 2 & 5 & 1 & 3 \\\\\n",
    "0 & 1 & 3 & 1 & 7 & 8 \\\\\n",
    "4 & 2 & 1 & 6 & 2 & 8 \\\\\n",
    "2 & 4 & 5 & 2 & 3 & 9 \\\\\n",
    "\\end{bmatrix}\n",
    "\\end{aligned}\n",
    "$$"
   ]
  },
  {
   "cell_type": "code",
   "execution_count": 32,
   "metadata": {},
   "outputs": [
    {
     "data": {
      "text/plain": [
       "array([[3, 0, 1, 2, 7, 4],\n",
       "       [1, 5, 8, 9, 3, 1],\n",
       "       [2, 7, 2, 5, 1, 3],\n",
       "       [0, 1, 3, 1, 7, 8],\n",
       "       [4, 2, 1, 6, 2, 8],\n",
       "       [2, 4, 5, 2, 3, 9]])"
      ]
     },
     "execution_count": 32,
     "metadata": {},
     "output_type": "execute_result"
    }
   ],
   "source": [
    "import numpy as np\n",
    "\n",
    "A = np.array([\n",
    "    [3, 0, 1, 2, 7, 4],\n",
    "    [1, 5, 8, 9, 3, 1],\n",
    "    [2, 7, 2, 5, 1, 3],\n",
    "    [0, 1, 3, 1, 7, 8],\n",
    "    [4, 2, 1, 6, 2, 8],\n",
    "    [2, 4, 5, 2, 3, 9]\n",
    "])\n",
    "\n",
    "A"
   ]
  },
  {
   "cell_type": "markdown",
   "metadata": {},
   "source": [
    "In order to detect edges, let's say vertical edges in this image, what you can do is construct a 3 * 3 matrix (a **filter** or a **kernel**). Here the filter is constructed like this:"
   ]
  },
  {
   "cell_type": "markdown",
   "metadata": {},
   "source": [
    "$$\n",
    "\\begin{aligned}\n",
    "\\begin{bmatrix}\n",
    "1 & 0 & -1 \\\\\n",
    "1 & 0 & -1 \\\\\n",
    "1 & 0 & -1 \\\\\n",
    "\\end{bmatrix}\n",
    "\\end{aligned}\n",
    "$$"
   ]
  },
  {
   "cell_type": "code",
   "execution_count": 132,
   "metadata": {},
   "outputs": [
    {
     "data": {
      "text/plain": [
       "array([[ 1,  0, -1],\n",
       "       [ 1,  0, -1],\n",
       "       [ 1,  0, -1]])"
      ]
     },
     "execution_count": 132,
     "metadata": {},
     "output_type": "execute_result"
    }
   ],
   "source": [
    "filter_v = np.array([\n",
    "    [1, 0, -1],\n",
    "    [1, 0, -1],\n",
    "    [1, 0, -1]\n",
    "])\n",
    "\n",
    "filter_v"
   ]
  },
  {
   "cell_type": "markdown",
   "metadata": {},
   "source": [
    "What you're going to do is take the 6 * 6 image and **convolve** it with the 3 * 3 filter. The convolution operation is denoted by **\\***."
   ]
  },
  {
   "cell_type": "markdown",
   "metadata": {},
   "source": [
    "And the output of this convolution operator is a 4 * 4 matrix."
   ]
  },
  {
   "cell_type": "markdown",
   "metadata": {},
   "source": [
    "**Convolution operation**"
   ]
  },
  {
   "cell_type": "markdown",
   "metadata": {},
   "source": [
    "The **M[0][0]** element in the resulting matrix:"
   ]
  },
  {
   "cell_type": "code",
   "execution_count": 160,
   "metadata": {},
   "outputs": [
    {
     "name": "stdout",
     "output_type": "stream",
     "text": [
      "[3 0 1]   [ 1  0 -1]\n",
      "[1 5 8] * [ 1  0 -1] = -5\n",
      "[2 7 2]   [ 1  0 -1]\n"
     ]
    }
   ],
   "source": [
    "def convolution(A, filter_, row, col):\n",
    "    print(A[row, col:col+3], \" \", filter_[0])\n",
    "    print(A[row + 1, col:col + 3], \"*\", filter_[1], \"=\", np.sum(A[row:row+3, col:col+3] * filter_))\n",
    "    print(A[row + 2, col:col + 3], \" \", filter_[2])\n",
    "    \n",
    "convolution(A, filter_v, 0, 0)"
   ]
  },
  {
   "cell_type": "markdown",
   "metadata": {},
   "source": [
    "The **M[0][1]** one:"
   ]
  },
  {
   "cell_type": "code",
   "execution_count": 161,
   "metadata": {},
   "outputs": [
    {
     "name": "stdout",
     "output_type": "stream",
     "text": [
      "[0 1 2]   [ 1  0 -1]\n",
      "[5 8 9] * [ 1  0 -1] = -4\n",
      "[7 2 5]   [ 1  0 -1]\n"
     ]
    }
   ],
   "source": [
    "convolution(A, filter_v, 0, 1)"
   ]
  },
  {
   "cell_type": "markdown",
   "metadata": {},
   "source": [
    "The **M[1][0]** one:"
   ]
  },
  {
   "cell_type": "code",
   "execution_count": 162,
   "metadata": {},
   "outputs": [
    {
     "name": "stdout",
     "output_type": "stream",
     "text": [
      "[1 5 8]   [ 1  0 -1]\n",
      "[2 7 2] * [ 1  0 -1] = -10\n",
      "[0 1 3]   [ 1  0 -1]\n"
     ]
    }
   ],
   "source": [
    "convolution(A, filter_v, 1, 0)"
   ]
  },
  {
   "cell_type": "markdown",
   "metadata": {},
   "source": [
    "**How it works to detect the vertical edge?**"
   ]
  },
  {
   "cell_type": "code",
   "execution_count": 163,
   "metadata": {},
   "outputs": [
    {
     "data": {
      "text/plain": [
       "array([[10, 10, 10,  0,  0,  0],\n",
       "       [10, 10, 10,  0,  0,  0],\n",
       "       [10, 10, 10,  0,  0,  0],\n",
       "       [10, 10, 10,  0,  0,  0],\n",
       "       [10, 10, 10,  0,  0,  0],\n",
       "       [10, 10, 10,  0,  0,  0]])"
      ]
     },
     "execution_count": 163,
     "metadata": {},
     "output_type": "execute_result"
    }
   ],
   "source": [
    "B = np.c_[np.full((6, 3), 10), np.full((6, 3), 0)]\n",
    "B"
   ]
  },
  {
   "cell_type": "code",
   "execution_count": 164,
   "metadata": {},
   "outputs": [
    {
     "data": {
      "image/png": "[encoded data removed]",
      "text/plain": [
       "<Figure size 432x288 with 1 Axes>"
      ]
     },
     "metadata": {
      "needs_background": "light"
     },
     "output_type": "display_data"
    }
   ],
   "source": [
    "import matplotlib.pyplot as plt\n",
    "\n",
    "plt.imshow(B, cmap=\"gray\")\n",
    "plt.show()"
   ]
  },
  {
   "cell_type": "markdown",
   "metadata": {},
   "source": [
    "Transition: light -> dark"
   ]
  },
  {
   "cell_type": "markdown",
   "metadata": {},
   "source": [
    "Notice the edge in the middle."
   ]
  },
  {
   "cell_type": "code",
   "execution_count": 165,
   "metadata": {},
   "outputs": [
    {
     "data": {
      "image/png": "[encoded data removed]",
      "text/plain": [
       "<Figure size 432x288 with 1 Axes>"
      ]
     },
     "metadata": {
      "needs_background": "light"
     },
     "output_type": "display_data"
    }
   ],
   "source": [
    "plt.imshow(filter_v, cmap=\"gray\")\n",
    "plt.show()"
   ]
  },
  {
   "cell_type": "markdown",
   "metadata": {},
   "source": [
    "left: relatively bright  \n",
    "right: relatively dark"
   ]
  },
  {
   "cell_type": "code",
   "execution_count": 166,
   "metadata": {},
   "outputs": [
    {
     "data": {
      "image/png": "[encoded data removed]",
      "text/plain": [
       "<Figure size 432x288 with 1 Axes>"
      ]
     },
     "metadata": {
      "needs_background": "light"
     },
     "output_type": "display_data"
    }
   ],
   "source": [
    "convolved = np.array([[ 0, 30, 30,  0],\n",
    "       [ 0, 30, 30,  0],\n",
    "       [ 0, 30, 30,  0],\n",
    "       [ 0, 30, 30,  0]])  # c * filter_\n",
    "plt.imshow(convolved, cmap=\"gray\")\n",
    "plt.show()"
   ]
  },
  {
   "cell_type": "markdown",
   "metadata": {},
   "source": [
    "The dimensions here seem a little bit wrong. It seems that the detected edge is a little bit fat. That's only because we're working with a pretty small img. If the img is large, the detection works well."
   ]
  },
  {
   "cell_type": "markdown",
   "metadata": {},
   "source": [
    "convolved[0][1]: A[0:3, 1:4]  \n",
    "  \n",
    "The first col and second col of A[0:3, 1:4]: bright.  \n",
    "The thrid col of A[0:3, 1:4]  : dark.  \n",
    "Thus bright -> dark.  \n",
    "Thus convolved = 30 > 0"
   ]
  },
  {
   "cell_type": "markdown",
   "metadata": {},
   "source": [
    "<font size=3>1.3 More edgr detection</font>"
   ]
  },
  {
   "cell_type": "markdown",
   "metadata": {},
   "source": [
    "**Reverse the shape of the transition**"
   ]
  },
  {
   "cell_type": "code",
   "execution_count": 167,
   "metadata": {},
   "outputs": [
    {
     "data": {
      "text/plain": [
       "array([[ 0,  0,  0, 10, 10, 10],\n",
       "       [ 0,  0,  0, 10, 10, 10],\n",
       "       [ 0,  0,  0, 10, 10, 10],\n",
       "       [ 0,  0,  0, 10, 10, 10],\n",
       "       [ 0,  0,  0, 10, 10, 10],\n",
       "       [ 0,  0,  0, 10, 10, 10]])"
      ]
     },
     "execution_count": 167,
     "metadata": {},
     "output_type": "execute_result"
    }
   ],
   "source": [
    "C = np.c_[np.full((6, 3), 0), np.full((6, 3), 10)]\n",
    "C"
   ]
  },
  {
   "cell_type": "code",
   "execution_count": 168,
   "metadata": {},
   "outputs": [
    {
     "data": {
      "image/png": "[encoded data removed]",
      "text/plain": [
       "<Figure size 432x288 with 1 Axes>"
      ]
     },
     "metadata": {
      "needs_background": "light"
     },
     "output_type": "display_data"
    }
   ],
   "source": [
    "import matplotlib.pyplot as plt\n",
    "\n",
    "plt.imshow(C, cmap=\"gray\")\n",
    "plt.show()"
   ]
  },
  {
   "cell_type": "markdown",
   "metadata": {},
   "source": [
    "Transition: dark -> light"
   ]
  },
  {
   "cell_type": "code",
   "execution_count": 169,
   "metadata": {},
   "outputs": [
    {
     "data": {
      "image/png": "[encoded data removed]",
      "text/plain": [
       "<Figure size 432x288 with 1 Axes>"
      ]
     },
     "metadata": {
      "needs_background": "light"
     },
     "output_type": "display_data"
    }
   ],
   "source": [
    "convolved_ = np.array([[ 0, 30, 30,  0],\n",
    "       [ 0, 30, 30,  0],\n",
    "       [ 0, 30, 30,  0],\n",
    "       [ 0, 30, 30,  0]]) * -1  # C * filter_\n",
    "plt.imshow(convolved_, cmap=\"gray\")\n",
    "plt.show()"
   ]
  },
  {
   "cell_type": "markdown",
   "metadata": {},
   "source": [
    "**Detect horizontal edges**"
   ]
  },
  {
   "cell_type": "code",
   "execution_count": 170,
   "metadata": {},
   "outputs": [],
   "source": [
    "filter_h = np.array([\n",
    "    [1, 1, 1],\n",
    "    [0, 0, 0],\n",
    "    [-1, -1, -1]\n",
    "])"
   ]
  },
  {
   "cell_type": "code",
   "execution_count": 171,
   "metadata": {},
   "outputs": [
    {
     "data": {
      "image/png": "[encoded data removed]",
      "text/plain": [
       "<Figure size 432x288 with 1 Axes>"
      ]
     },
     "metadata": {
      "needs_background": "light"
     },
     "output_type": "display_data"
    }
   ],
   "source": [
    "plt.imshow(filter_h, cmap=\"gray\")\n",
    "plt.show()"
   ]
  },
  {
   "cell_type": "markdown",
   "metadata": {},
   "source": [
    "top: relatively bright  \n",
    "bottom: relatively dark"
   ]
  },
  {
   "cell_type": "markdown",
   "metadata": {},
   "source": [
    "**A more complex example**"
   ]
  },
  {
   "cell_type": "code",
   "execution_count": 172,
   "metadata": {},
   "outputs": [],
   "source": [
    "D = np.c_[np.r_[np.full((3, 3), 10), np.full((3, 3), 0)], np.r_[np.full((3, 3), 0), np.full((3, 3), 10)]]"
   ]
  },
  {
   "cell_type": "code",
   "execution_count": 173,
   "metadata": {},
   "outputs": [
    {
     "name": "stdout",
     "output_type": "stream",
     "text": [
      "[10 10  0]   [1 1 1]\n",
      "[10 10  0] * [0 0 0] = 10\n",
      "[ 0  0 10]   [-1 -1 -1]\n"
     ]
    }
   ],
   "source": [
    "convolution(D, filter_h, 1, 1)"
   ]
  },
  {
   "cell_type": "markdown",
   "metadata": {},
   "source": [
    "bright -> dark: two cols  \n",
    "dark -> bright: one col\n",
    "  \n",
    "Thus get a intermediate value, bright -> dark"
   ]
  },
  {
   "cell_type": "markdown",
   "metadata": {},
   "source": [
    "**Learning to detect edges**"
   ]
  },
  {
   "cell_type": "markdown",
   "metadata": {},
   "source": [
    "Treat the filter as a matrix containg 9 parameters. Use back prop to find the optimal parameters and make a good filter, which may not only able to detect horizontal and vertical edges, but other kinds of edges."
   ]
  },
  {
   "cell_type": "markdown",
   "metadata": {},
   "source": [
    "<font size=3>**1.4 Padding**</font>"
   ]
  },
  {
   "cell_type": "markdown",
   "metadata": {},
   "source": [
    "Assume that  \n",
    "  \n",
    "A.shape = n, n  \n",
    "filter.shape = f, f  \n",
    "  \n",
    "then  \n",
    "outcome_matrix.shape = n-f+1, n-f+1"
   ]
  },
  {
   "cell_type": "markdown",
   "metadata": {},
   "source": [
    "**Downsides**"
   ]
  },
  {
   "cell_type": "markdown",
   "metadata": {},
   "source": [
    "1. **shrinking output**: The img will shrink every time the convolution operator is applied.  \n",
    "2. **throwing away info from edges**: pixels on the corners or on the edges are used much less in the output so you're throwing away a lot of info."
   ]
  },
  {
   "cell_type": "markdown",
   "metadata": {},
   "source": [
    "**Solution**"
   ]
  },
  {
   "cell_type": "markdown",
   "metadata": {},
   "source": [
    "Pad the image.  \n",
    "  \n",
    "Pad the img with an additional border of one pixel all around the edges: 6 * 6 -> 8 * 8. Then after the convolution, get a 6 * 6 matrix.  \n",
    "  \n",
    "By convention pad with 0s.  \n",
    "  \n",
    "p: padding amount. 1 here.  \n",
    "After padding, the output size will be n+2p-f+1, n+2p-f+1\n",
    "  \n",
    "If you want, you can pad more pixels."
   ]
  },
  {
   "cell_type": "markdown",
   "metadata": {},
   "source": [
    "**Valid and Same convolutions**  "
   ]
  },
  {
   "cell_type": "markdown",
   "metadata": {},
   "source": [
    "valid: no convolution  \n",
    "same: pad so that output size is the same as the input size. $p = \\frac{f - 1}{2}$ "
   ]
  },
  {
   "cell_type": "markdown",
   "metadata": {},
   "source": [
    "By convention, f is usually odd."
   ]
  },
  {
   "cell_type": "markdown",
   "metadata": {},
   "source": [
    "<font size=3>**Strided convolutions**</font>"
   ]
  },
  {
   "cell_type": "markdown",
   "metadata": {},
   "source": [
    "from left to right:"
   ]
  },
  {
   "cell_type": "markdown",
   "metadata": {},
   "source": [
    "<font color=blue>1 1 1</font> 1 1 1 1&nbsp;&nbsp;&nbsp;1 1 <font color=blue>1 1 1</font> 1 1  \n",
    "<font color=blue>1 1 1</font> 1 1 1 1&nbsp;&nbsp;&nbsp;1 1 <font color=blue>1 1 1</font> 1 1  \n",
    "<font color=blue>1 1 1</font> 1 1 1 1&nbsp;&nbsp;&nbsp;1 1 <font color=blue>1 1 1</font> 1 1  \n",
    "1 1 1 1 1 1 1&nbsp;&nbsp;&nbsp;1 1 1 1 1 1 1  \n",
    "1 1 1 1 1 1 1&nbsp;&nbsp;&nbsp;1 1 1 1 1 1 1  \n",
    "1 1 1 1 1 1 1&nbsp;&nbsp;&nbsp;1 1 1 1 1 1 1  \n",
    "1 1 1 1 1 1 1&nbsp;&nbsp;&nbsp;1 1 1 1 1 1 1  "
   ]
  },
  {
   "cell_type": "markdown",
   "metadata": {},
   "source": [
    "from top to bottom:"
   ]
  },
  {
   "cell_type": "markdown",
   "metadata": {},
   "source": [
    "<font color=blue>1 1 1</font> 1 1 1 1  \n",
    "<font color=blue>1 1 1</font> 1 1 1 1  \n",
    "<font color=blue>1 1 1</font> 1 1 1 1  \n",
    "1 1 1 1 1 1 1  \n",
    "1 1 1 1 1 1 1  \n",
    "1 1 1 1 1 1 1  \n",
    "1 1 1 1 1 1 1  \n",
    "  \n",
    "  \n",
    "  \n",
    "1 1 1 1 1 1 1  \n",
    "1 1 1 1 1 1 1  \n",
    "<font color=blue>1 1 1</font> 1 1 1 1  \n",
    "<font color=blue>1 1 1</font> 1 1 1 1  \n",
    "<font color=blue>1 1 1</font> 1 1 1 1  \n",
    "1 1 1 1 1 1 1  \n",
    "1 1 1 1 1 1 1"
   ]
  },
  {
   "cell_type": "markdown",
   "metadata": {},
   "source": [
    "s: stride. 2 here.  \n",
    "the output size: $\\lfloor \\frac{n + 2p - f}{s} + 1 \\rfloor$, $\\lfloor \\frac{n + \n",
    "2p - f}{s} + 1 \\rfloor$"
   ]
  },
  {
   "cell_type": "markdown",
   "metadata": {},
   "source": [
    "**Technical note on cross-correlation vs. convolution**"
   ]
  },
  {
   "cell_type": "markdown",
   "metadata": {},
   "source": [
    "The course skipped the mirroring operation. Technically, what's really doing in the videos is sometimes called cross-correlation instead of convolution.But in dl literature, by convention, we just call this a convolution operation. By convention in machine learning, we usually do not bother with this flipping operation. The mirroring operation is not necessary in neural networks."
   ]
  },
  {
   "cell_type": "markdown",
   "metadata": {},
   "source": [
    "<font size=3>**1.6 Convolutions over volumnes**</font>"
   ]
  },
  {
   "cell_type": "markdown",
   "metadata": {},
   "source": [
    "An RGB img for example:  \n",
    "6 * 6 * 3 (height * width * number of channels)  \n",
    "  \n",
    "And the filter should be:  \n",
    "3 * 3 * 3 (height * width * number of channels)  \n",
    "  \n",
    "The number of channels (also called the dpeth) in the img must match the number of channels in the filter.  \n",
    "  \n",
    "The output: 4 * 4 * 1"
   ]
  },
  {
   "cell_type": "markdown",
   "metadata": {},
   "source": [
    "**How to compute?**"
   ]
  },
  {
   "cell_type": "markdown",
   "metadata": {},
   "source": [
    "Similar to the case of 2d. M[0][0]: 27 numbers * numbers"
   ]
  },
  {
   "cell_type": "markdown",
   "metadata": {},
   "source": [
    "**What can this do?**"
   ]
  },
  {
   "cell_type": "markdown",
   "metadata": {},
   "source": [
    "Suppose we are to detect vertical edges in the red channels of the img, the red channel of the filter can be:\n",
    "$$\n",
    "\\begin{aligned}\n",
    "\\begin{bmatrix}\n",
    "1 & 0 & -1 \\\\\n",
    "1 & 0 & -1 \\\\\n",
    "1 & 0 & -1 \\\\\n",
    "\\end{bmatrix}\n",
    "\\end{aligned}\n",
    "$$\n",
    "  \n",
    "And the grean and blue channels all 0s."
   ]
  },
  {
   "cell_type": "markdown",
   "metadata": {},
   "source": [
    "If you don't care what color it is, to detect vertical edges we can make three channels all the same as the red channel matrix above."
   ]
  },
  {
   "cell_type": "markdown",
   "metadata": {},
   "source": [
    "**Multiple filters**"
   ]
  },
  {
   "cell_type": "markdown",
   "metadata": {},
   "source": [
    "If we want to detect vertical, horizontal or other kinds of edges at the same time, we can use multiple edges.  \n",
    "  \n",
    "Stack outputs of every filters together to form an outcome with multiple channels."
   ]
  },
  {
   "cell_type": "markdown",
   "metadata": {},
   "source": [
    "The img: n, n, $n_c$ (the number of channels)  \n",
    "The filter: f, f, $n_c$  \n",
    "Outcome: n - f + 1, n - f + 1, $n_c^{'}$ (the number of filters)"
   ]
  },
  {
   "cell_type": "markdown",
   "metadata": {},
   "source": [
    "<font size=3>**1.7 One layer of a convolutional network**</font>"
   ]
  },
  {
   "cell_type": "markdown",
   "metadata": {},
   "source": [
    "**One layer**"
   ]
  },
  {
   "cell_type": "markdown",
   "metadata": {},
   "source": [
    "input: 6, 6, 3  \n",
    "filter1: 3, 3, 3  \n",
    "filter2: 3, 3, 3  \n",
    "  \n",
    "for the outcome of filter1: add a b1, and Relu(outcome1 + b1)  \n",
    "for the outcome of filter2: add a b2, and Relu(outcome2 + b2)  \n",
    "  \n",
    "And stack the two matrices together we get a 4, 4, 2 output"
   ]
  },
  {
   "cell_type": "markdown",
   "metadata": {},
   "source": [
    "Recall that  \n",
    "$Z^{[1]} = W^{[1]} a^{[0]} + b^{[1]}$  \n",
    "$a^{[1]} = g(Z^{[1]})$"
   ]
  },
  {
   "cell_type": "markdown",
   "metadata": {},
   "source": [
    "The input here: $a^{[0]}$  \n",
    "The filters: $W^{[1]}$  \n",
    "outcome + b: $Z^{[1]}$  \n",
    "Relu(): g()  \n",
    "stacked outcome: $a^{[1]}$"
   ]
  },
  {
   "cell_type": "markdown",
   "metadata": {},
   "source": [
    "The number of parameters in a layer containing filters is determined by the number of **filters** (input features), no matter how large the input data is. It's a property of convolutional neural nets that **makes them less prone to over fitting.**"
   ]
  },
  {
   "cell_type": "markdown",
   "metadata": {},
   "source": [
    "**Some notation**"
   ]
  },
  {
   "cell_type": "markdown",
   "metadata": {},
   "source": [
    "If layer $l$ is a convolutional layer:  \n",
    "\n",
    "Input:$n^{[l-1]}_H * n^{[l-1]}_W * n^{[l-1]}_c$  \n",
    "Output:$n^{[l]}_H * n^{[l]}_W * n^{[l]}_c$\n",
    "\n",
    "$f^{[l]}$ = filter size  \n",
    "$p^{[l]}$ = padding  \n",
    "$s^{[l]}$ = stride  \n",
    "$n^{[l]}_c$ = number of filters  \n",
    "  \n",
    "Each filter is: $f^{[l]} * f^{[l]} * n^{[l-1]}_c$  \n",
    "Activations: $a^{[l]}$ -> $n^{[l]}_H * n^{[l]}_W * n^{[l]}_c$ (one example), $m * n^{[l]}_H * n^{[l]}_W * n^{[l]}_c$ (m examples)  \n",
    "Weight: $f^{[l]} * f^{[l]} * n^{[l-1]}_c * n^{[l]}_c$  \n",
    "bias: $n^{[l]}_c$ or (1, 1, 1, $n^{[l]}_c$)  \n",
    "  \n",
    "$n^{[l]}_H = \\lfloor \\frac{n^{[l-1]}_W + 2p^{[l]} - f^{[l]}}{s^{[l]}} + 1 \\rfloor$  \n",
    "$n^{[l]}_W = \\lfloor \\frac{n^{[l-1]}_H + 2p^{[l]} - f^{[l]}}{s^{[l]}} + 1 \\rfloor$"
   ]
  },
  {
   "cell_type": "markdown",
   "metadata": {},
   "source": [
    "<font size=3>**1.8 A simple convolutional network example**</font>"
   ]
  },
  {
   "cell_type": "markdown",
   "metadata": {},
   "source": [
    "The final step of the convomutional part: unroll all numbers in the output into a very long vector, so that you just have one long vector to feed into soft max, into logistic reg, in order to make a prediction for the final output."
   ]
  },
  {
   "cell_type": "markdown",
   "metadata": {},
   "source": [
    "**Hyperparameters**"
   ]
  },
  {
   "cell_type": "markdown",
   "metadata": {},
   "source": [
    "Typically you start out with larger images, and then the height and width will stay the same for a while and gradually trend down as you go deeper in your networks, whereas the number of channels will generally increase."
   ]
  },
  {
   "cell_type": "markdown",
   "metadata": {},
   "source": [
    "**Types of layer in a convolutional network**"
   ]
  },
  {
   "cell_type": "markdown",
   "metadata": {},
   "source": [
    "In a typical ConvNet, there are usually three types of layers. One is the **conv layer**, notated as **CONV**. It turns out that there are two other common types of layers that you have not seen yet, a **pooling layer** (**POOL**) and a **fully connected layer** (**FC**)."
   ]
  },
  {
   "cell_type": "markdown",
   "metadata": {},
   "source": [
    "<font size=3>**1.9 Pooling layers**</font>"
   ]
  },
  {
   "cell_type": "markdown",
   "metadata": {},
   "source": [
    "Can be used to reduce the size of the repr of neural networks to speed up computation  \n",
    "make some of the features it detects a bit more robust "
   ]
  },
  {
   "cell_type": "markdown",
   "metadata": {},
   "source": [
    "**max pooling**"
   ]
  },
  {
   "cell_type": "markdown",
   "metadata": {},
   "source": [
    "Suppose we have a 4 * 4 matrix:  \n",
    "$$\n",
    "\\begin{aligned}\n",
    "\\begin{bmatrix}\n",
    "1 & 3 & 2 & 1 \\\\\n",
    "2 & 9 & 1 & 1 \\\\\n",
    "1 & 3 & 2 & 3 \\\\\n",
    "5 & 6 & 1 & 2 \\\\\n",
    "\\end{bmatrix}\n",
    "\\end{aligned}\n",
    "$$  \n",
    "  \n",
    "The result of the max pooling will be a 2 * 2 matrix:  \n",
    "$$\n",
    "\\begin{aligned}\n",
    "\\begin{bmatrix}\n",
    "9 & 2 \\\\\n",
    "6 & 3 \\\\\n",
    "\\end{bmatrix}\n",
    "\\end{aligned}\n",
    "$$  \n",
    "  \n",
    "The M[0][0] in the output matrix comes from choosing the max from \n",
    "\\begin{aligned}\n",
    "\\begin{bmatrix}\n",
    "1 & 3 \\\\\n",
    "2 & 9 \\\\\n",
    "\\end{bmatrix}\n",
    "\\end{aligned}\n",
    "\n",
    "And M[0][1]\n",
    "\\begin{aligned}\n",
    "\\begin{bmatrix}\n",
    "2 & 1 \\\\\n",
    "1 & 1 \\\\\n",
    "\\end{bmatrix}\n",
    "\\end{aligned}"
   ]
  },
  {
   "cell_type": "markdown",
   "metadata": {},
   "source": [
    "It's like we used a 2 * 2 filter with f = 2, s = 2."
   ]
  },
  {
   "cell_type": "markdown",
   "metadata": {},
   "source": [
    "**What it does**"
   ]
  },
  {
   "cell_type": "markdown",
   "metadata": {},
   "source": [
    "What the max operation does is so long as the feature is detected anywhere in one in one of these quadrants, it then remains preserved in the output of Max pooling. What the max operator does is really says, if this feature is detected anywhere in this filter, then keep a high number. But if this feature is not detected, maybe this feature does not exist in the upper right hand quadrant, then the max of all those numbers is still itself quite small. "
   ]
  },
  {
   "cell_type": "markdown",
   "metadata": {},
   "source": [
    "It has a set of hyperparameters (f = 2 and s = 2 here), but there's actually nothing for gd to learn."
   ]
  },
  {
   "cell_type": "markdown",
   "metadata": {},
   "source": [
    "**3d input**"
   ]
  },
  {
   "cell_type": "markdown",
   "metadata": {},
   "source": [
    "The output will have the same dimension (3d for a 3d input). Use the first channel of the input matrix to get the first channel of the output matrix, and so on. If the input is 5 * 5 * 2, the output is 3 * 3 * 2, if f = 3 and s = 1."
   ]
  },
  {
   "cell_type": "markdown",
   "metadata": {},
   "source": [
    "**Average pooling**"
   ]
  },
  {
   "cell_type": "markdown",
   "metadata": {},
   "source": [
    "Instead of the max, take the average. For the first example, M[0][0] will be 3.75."
   ]
  },
  {
   "cell_type": "markdown",
   "metadata": {},
   "source": [
    "**summary of pooling**"
   ]
  },
  {
   "cell_type": "markdown",
   "metadata": {},
   "source": [
    "Hyperparameters:  \n",
    "&nbsp;&nbsp;&nbsp;&nbsp;f: filter size  \n",
    "&nbsp;&nbsp;&nbsp;&nbsp;s: stride  \n",
    "  \n",
    "Size:  \n",
    "&nbsp;&nbsp;&nbsp;&nbsp;Intput: $n_H$ * $n_W$ * $n_c$  \n",
    "&nbsp;&nbsp;&nbsp;&nbsp;Output: $\\lfloor \\frac{n_H - f}{s} + 1 \\rfloor$ * $\\lfloor \\frac{n_W - f}{s} + 1 \\rfloor$ * $n_c$   \n",
    "  \n",
    "Max or average pooling.  \n",
    "  \n",
    "The common choice of hyperparameters: f = 2, s = 2. This has the effect of roughly shrinking the height and width by a factor of about two.  \n",
    "  \n",
    "No parameters to learn when implementing back prop."
   ]
  },
  {
   "cell_type": "markdown",
   "metadata": {},
   "source": [
    "<font size=3>**1.10 Convolutional neural network example**</font>"
   ]
  },
  {
   "cell_type": "markdown",
   "metadata": {},
   "source": [
    "There are two conventions which are slightly in consistence about what you call a layer. One convention is that CONV + POOL is a layer, and the other is CONV a layer, and POOL a layer. When people report a number of layers in a neural network, usually people report just the number of layers that have weights, that have parameters, and because the pooling layer has no weights, has no parameters, only a few hyperparameters, the video uses the convention that treating the CONV and POOL together as a layer. "
   ]
  },
  {
   "cell_type": "markdown",
   "metadata": {},
   "source": [
    "**fully connected layer**"
   ]
  },
  {
   "cell_type": "markdown",
   "metadata": {},
   "source": [
    "It is just like a single neural network, is just a standard neural network where you have a weight matrix."
   ]
  },
  {
   "cell_type": "markdown",
   "metadata": {},
   "source": [
    "<font size=3>**1.11 Why convolutions?**</font>"
   ]
  },
  {
   "cell_type": "markdown",
   "metadata": {},
   "source": [
    "Rather than using all fully connected layers, CNN has mainly two advantages:  \n",
    "1. parameter sharing: A feature detector (such as a vertical edge detector) that's useful in one part of the image is probably useful in another part of the image.  \n",
    "2. sparsity of connections: In each layer, each output value depends only on a small number of inputs.  "
   ]
  },
  {
   "cell_type": "markdown",
   "metadata": {},
   "source": [
    "**Cost func of a CNN**"
   ]
  },
  {
   "cell_type": "markdown",
   "metadata": {},
   "source": [
    "It looks like the cost func of a logistic reg model:  \n",
    "$J = \\frac{1}{m} \\sum^m_{i=1} L(\\hat y^{(i)}, y^{(i)})$"
   ]
  }
 ],
 "metadata": {
  "kernelspec": {
   "display_name": "Python 3",
   "language": "python",
   "name": "python3"
  },
  "language_info": {
   "codemirror_mode": {
    "name": "ipython",
    "version": 3
   },
   "file_extension": ".py",
   "mimetype": "text/x-python",
   "name": "python",
   "nbconvert_exporter": "python",
   "pygments_lexer": "ipython3",
   "version": "3.7.2"
  }
 },
 "nbformat": 4,
 "nbformat_minor": 2
}
